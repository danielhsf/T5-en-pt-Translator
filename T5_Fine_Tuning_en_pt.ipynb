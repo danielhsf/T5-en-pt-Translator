{
  "nbformat": 4,
  "nbformat_minor": 0,
  "metadata": {
    "colab": {
      "name": "T5-Fine-Tuning-en-pt.ipynb",
      "provenance": [],
      "collapsed_sections": [],
      "machine_shape": "hm",
      "authorship_tag": "ABX9TyOx/ZUOCfpEMRtDTT/DT0B8",
      "include_colab_link": true
    },
    "kernelspec": {
      "name": "python3",
      "display_name": "Python 3"
    },
    "language_info": {
      "name": "python"
    }
  },
  "cells": [
    {
      "cell_type": "markdown",
      "metadata": {
        "id": "view-in-github",
        "colab_type": "text"
      },
      "source": [
        "<a href=\"https://colab.research.google.com/github/danielhsf/T5-en-pt-Translator/blob/main/T5_Fine_Tuning_en_pt.ipynb\" target=\"_parent\"><img src=\"https://colab.research.google.com/assets/colab-badge.svg\" alt=\"Open In Colab\"/></a>"
      ]
    },
    {
      "cell_type": "markdown",
      "metadata": {
        "id": "JbZqJv6_xWQv"
      },
      "source": [
        "#Introdução\n",
        "\n",
        "Esse Notebook se destina a realizar o Fine-Tuning do modelo pré-treinado do T5 para realizar a tarefa de traduzir textos do inglês para português. \n",
        "Esse trabalho tomou como base o trabalho de [Lite-T5-Translator](https://github.com/unicamp-dl/Lite-T5-Translation), usando inclusive o msm dataset de treino e validação disponivel no github."
      ]
    },
    {
      "cell_type": "markdown",
      "metadata": {
        "id": "4C14uw-6xrWh"
      },
      "source": [
        "## Primeros passos"
      ]
    },
    {
      "cell_type": "markdown",
      "metadata": {
        "id": "Gp_d7IWoxwPi"
      },
      "source": [
        "### Checando a gpu de trabalho"
      ]
    },
    {
      "cell_type": "code",
      "metadata": {
        "colab": {
          "base_uri": "https://localhost:8080/"
        },
        "id": "RBGR1j6Ux0Kq",
        "outputId": "032e74d6-3ba7-4f8f-86f4-c0193ad9ff72"
      },
      "source": [
        "gpu_info = !nvidia-smi\n",
        "gpu_info = '\\n'.join(gpu_info)\n",
        "if gpu_info.find('failed') >= 0:\n",
        "  print('Not connected to a GPU')\n",
        "else:\n",
        "  print(gpu_info)"
      ],
      "execution_count": 1,
      "outputs": [
        {
          "output_type": "stream",
          "name": "stdout",
          "text": [
            "Not connected to a GPU\n"
          ]
        }
      ]
    },
    {
      "cell_type": "markdown",
      "metadata": {
        "id": "uxVuGFDsyQ3X"
      },
      "source": [
        "### Se conectando ao Google Colab"
      ]
    },
    {
      "cell_type": "code",
      "metadata": {
        "colab": {
          "base_uri": "https://localhost:8080/"
        },
        "id": "aknmflfcw-lh",
        "outputId": "97dded5a-5dc0-4768-a30b-5d8d77d55528"
      },
      "source": [
        "from google.colab import drive\n",
        "drive.mount('/content/drive')"
      ],
      "execution_count": 5,
      "outputs": [
        {
          "output_type": "stream",
          "name": "stdout",
          "text": [
            "Mounted at /content/drive\n"
          ]
        }
      ]
    },
    {
      "cell_type": "markdown",
      "metadata": {
        "id": "IOcjvqKiEjZZ"
      },
      "source": [
        "### Logando na conta do HugginFace"
      ]
    },
    {
      "cell_type": "code",
      "metadata": {
        "id": "1Z64qa9mEqO1"
      },
      "source": [
        "from huggingface_hub import notebook_login\n",
        "\n",
        "notebook_login()"
      ],
      "execution_count": null,
      "outputs": []
    },
    {
      "cell_type": "markdown",
      "metadata": {
        "id": "iQrb6p3a0LPZ"
      },
      "source": [
        "## Instalando dependências e importando as bibliotecas necessárias"
      ]
    },
    {
      "cell_type": "markdown",
      "metadata": {
        "id": "yrqrAAA11Vub"
      },
      "source": [
        "#### Dependencias"
      ]
    },
    {
      "cell_type": "code",
      "metadata": {
        "colab": {
          "base_uri": "https://localhost:8080/"
        },
        "id": "i_EKAC2_zIAe",
        "outputId": "39d50dc3-4a30-495e-cc33-c879565fdf77"
      },
      "source": [
        "! pip install transformers sacrebleu"
      ],
      "execution_count": 6,
      "outputs": [
        {
          "output_type": "stream",
          "name": "stdout",
          "text": [
            "Collecting transformers\n",
            "  Downloading transformers-4.12.5-py3-none-any.whl (3.1 MB)\n",
            "\u001b[K     |████████████████████████████████| 3.1 MB 15.2 MB/s \n",
            "\u001b[?25hCollecting sacrebleu\n",
            "  Downloading sacrebleu-2.0.0-py3-none-any.whl (90 kB)\n",
            "\u001b[K     |████████████████████████████████| 90 kB 9.4 MB/s \n",
            "\u001b[?25hRequirement already satisfied: packaging>=20.0 in /usr/local/lib/python3.7/dist-packages (from transformers) (21.3)\n",
            "Requirement already satisfied: tqdm>=4.27 in /usr/local/lib/python3.7/dist-packages (from transformers) (4.62.3)\n",
            "Requirement already satisfied: importlib-metadata in /usr/local/lib/python3.7/dist-packages (from transformers) (4.8.2)\n",
            "Collecting pyyaml>=5.1\n",
            "  Downloading PyYAML-6.0-cp37-cp37m-manylinux_2_5_x86_64.manylinux1_x86_64.manylinux_2_12_x86_64.manylinux2010_x86_64.whl (596 kB)\n",
            "\u001b[K     |████████████████████████████████| 596 kB 71.2 MB/s \n",
            "\u001b[?25hCollecting huggingface-hub<1.0,>=0.1.0\n",
            "  Downloading huggingface_hub-0.2.1-py3-none-any.whl (61 kB)\n",
            "\u001b[K     |████████████████████████████████| 61 kB 474 kB/s \n",
            "\u001b[?25hCollecting sacremoses\n",
            "  Downloading sacremoses-0.0.46-py3-none-any.whl (895 kB)\n",
            "\u001b[K     |████████████████████████████████| 895 kB 85.0 MB/s \n",
            "\u001b[?25hRequirement already satisfied: numpy>=1.17 in /usr/local/lib/python3.7/dist-packages (from transformers) (1.19.5)\n",
            "Requirement already satisfied: regex!=2019.12.17 in /usr/local/lib/python3.7/dist-packages (from transformers) (2019.12.20)\n",
            "Requirement already satisfied: requests in /usr/local/lib/python3.7/dist-packages (from transformers) (2.23.0)\n",
            "Collecting tokenizers<0.11,>=0.10.1\n",
            "  Downloading tokenizers-0.10.3-cp37-cp37m-manylinux_2_5_x86_64.manylinux1_x86_64.manylinux_2_12_x86_64.manylinux2010_x86_64.whl (3.3 MB)\n",
            "\u001b[K     |████████████████████████████████| 3.3 MB 49.1 MB/s \n",
            "\u001b[?25hRequirement already satisfied: filelock in /usr/local/lib/python3.7/dist-packages (from transformers) (3.4.0)\n",
            "Requirement already satisfied: typing-extensions>=3.7.4.3 in /usr/local/lib/python3.7/dist-packages (from huggingface-hub<1.0,>=0.1.0->transformers) (3.10.0.2)\n",
            "Requirement already satisfied: pyparsing!=3.0.5,>=2.0.2 in /usr/local/lib/python3.7/dist-packages (from packaging>=20.0->transformers) (3.0.6)\n",
            "Collecting colorama\n",
            "  Downloading colorama-0.4.4-py2.py3-none-any.whl (16 kB)\n",
            "Collecting portalocker\n",
            "  Downloading portalocker-2.3.2-py2.py3-none-any.whl (15 kB)\n",
            "Requirement already satisfied: tabulate>=0.8.9 in /usr/local/lib/python3.7/dist-packages (from sacrebleu) (0.8.9)\n",
            "Requirement already satisfied: zipp>=0.5 in /usr/local/lib/python3.7/dist-packages (from importlib-metadata->transformers) (3.6.0)\n",
            "Requirement already satisfied: idna<3,>=2.5 in /usr/local/lib/python3.7/dist-packages (from requests->transformers) (2.10)\n",
            "Requirement already satisfied: certifi>=2017.4.17 in /usr/local/lib/python3.7/dist-packages (from requests->transformers) (2021.10.8)\n",
            "Requirement already satisfied: urllib3!=1.25.0,!=1.25.1,<1.26,>=1.21.1 in /usr/local/lib/python3.7/dist-packages (from requests->transformers) (1.24.3)\n",
            "Requirement already satisfied: chardet<4,>=3.0.2 in /usr/local/lib/python3.7/dist-packages (from requests->transformers) (3.0.4)\n",
            "Requirement already satisfied: click in /usr/local/lib/python3.7/dist-packages (from sacremoses->transformers) (7.1.2)\n",
            "Requirement already satisfied: six in /usr/local/lib/python3.7/dist-packages (from sacremoses->transformers) (1.15.0)\n",
            "Requirement already satisfied: joblib in /usr/local/lib/python3.7/dist-packages (from sacremoses->transformers) (1.1.0)\n",
            "Installing collected packages: pyyaml, tokenizers, sacremoses, portalocker, huggingface-hub, colorama, transformers, sacrebleu\n",
            "  Attempting uninstall: pyyaml\n",
            "    Found existing installation: PyYAML 3.13\n",
            "    Uninstalling PyYAML-3.13:\n",
            "      Successfully uninstalled PyYAML-3.13\n",
            "Successfully installed colorama-0.4.4 huggingface-hub-0.2.1 portalocker-2.3.2 pyyaml-6.0 sacrebleu-2.0.0 sacremoses-0.0.46 tokenizers-0.10.3 transformers-4.12.5\n"
          ]
        }
      ]
    },
    {
      "cell_type": "code",
      "metadata": {
        "colab": {
          "base_uri": "https://localhost:8080/"
        },
        "id": "d7wJrMmW1PBv",
        "outputId": "a854753e-f209-40b3-f72e-bfec7cdfb692"
      },
      "source": [
        "!pip install sentencepiece"
      ],
      "execution_count": 7,
      "outputs": [
        {
          "output_type": "stream",
          "name": "stdout",
          "text": [
            "Collecting sentencepiece\n",
            "  Downloading sentencepiece-0.1.96-cp37-cp37m-manylinux_2_17_x86_64.manylinux2014_x86_64.whl (1.2 MB)\n",
            "\u001b[?25l\r\u001b[K     |▎                               | 10 kB 4.4 MB/s eta 0:00:01\r\u001b[K     |▌                               | 20 kB 7.4 MB/s eta 0:00:01\r\u001b[K     |▉                               | 30 kB 8.5 MB/s eta 0:00:01\r\u001b[K     |█                               | 40 kB 9.0 MB/s eta 0:00:01\r\u001b[K     |█▍                              | 51 kB 8.2 MB/s eta 0:00:01\r\u001b[K     |█▋                              | 61 kB 9.2 MB/s eta 0:00:01\r\u001b[K     |██                              | 71 kB 9.0 MB/s eta 0:00:01\r\u001b[K     |██▏                             | 81 kB 10.1 MB/s eta 0:00:01\r\u001b[K     |██▍                             | 92 kB 10.5 MB/s eta 0:00:01\r\u001b[K     |██▊                             | 102 kB 10.0 MB/s eta 0:00:01\r\u001b[K     |███                             | 112 kB 10.0 MB/s eta 0:00:01\r\u001b[K     |███▎                            | 122 kB 10.0 MB/s eta 0:00:01\r\u001b[K     |███▌                            | 133 kB 10.0 MB/s eta 0:00:01\r\u001b[K     |███▉                            | 143 kB 10.0 MB/s eta 0:00:01\r\u001b[K     |████                            | 153 kB 10.0 MB/s eta 0:00:01\r\u001b[K     |████▎                           | 163 kB 10.0 MB/s eta 0:00:01\r\u001b[K     |████▋                           | 174 kB 10.0 MB/s eta 0:00:01\r\u001b[K     |████▉                           | 184 kB 10.0 MB/s eta 0:00:01\r\u001b[K     |█████▏                          | 194 kB 10.0 MB/s eta 0:00:01\r\u001b[K     |█████▍                          | 204 kB 10.0 MB/s eta 0:00:01\r\u001b[K     |█████▊                          | 215 kB 10.0 MB/s eta 0:00:01\r\u001b[K     |██████                          | 225 kB 10.0 MB/s eta 0:00:01\r\u001b[K     |██████▏                         | 235 kB 10.0 MB/s eta 0:00:01\r\u001b[K     |██████▌                         | 245 kB 10.0 MB/s eta 0:00:01\r\u001b[K     |██████▊                         | 256 kB 10.0 MB/s eta 0:00:01\r\u001b[K     |███████                         | 266 kB 10.0 MB/s eta 0:00:01\r\u001b[K     |███████▎                        | 276 kB 10.0 MB/s eta 0:00:01\r\u001b[K     |███████▋                        | 286 kB 10.0 MB/s eta 0:00:01\r\u001b[K     |███████▉                        | 296 kB 10.0 MB/s eta 0:00:01\r\u001b[K     |████████                        | 307 kB 10.0 MB/s eta 0:00:01\r\u001b[K     |████████▍                       | 317 kB 10.0 MB/s eta 0:00:01\r\u001b[K     |████████▋                       | 327 kB 10.0 MB/s eta 0:00:01\r\u001b[K     |█████████                       | 337 kB 10.0 MB/s eta 0:00:01\r\u001b[K     |█████████▏                      | 348 kB 10.0 MB/s eta 0:00:01\r\u001b[K     |█████████▌                      | 358 kB 10.0 MB/s eta 0:00:01\r\u001b[K     |█████████▊                      | 368 kB 10.0 MB/s eta 0:00:01\r\u001b[K     |██████████                      | 378 kB 10.0 MB/s eta 0:00:01\r\u001b[K     |██████████▎                     | 389 kB 10.0 MB/s eta 0:00:01\r\u001b[K     |██████████▌                     | 399 kB 10.0 MB/s eta 0:00:01\r\u001b[K     |██████████▉                     | 409 kB 10.0 MB/s eta 0:00:01\r\u001b[K     |███████████                     | 419 kB 10.0 MB/s eta 0:00:01\r\u001b[K     |███████████▍                    | 430 kB 10.0 MB/s eta 0:00:01\r\u001b[K     |███████████▋                    | 440 kB 10.0 MB/s eta 0:00:01\r\u001b[K     |███████████▉                    | 450 kB 10.0 MB/s eta 0:00:01\r\u001b[K     |████████████▏                   | 460 kB 10.0 MB/s eta 0:00:01\r\u001b[K     |████████████▍                   | 471 kB 10.0 MB/s eta 0:00:01\r\u001b[K     |████████████▊                   | 481 kB 10.0 MB/s eta 0:00:01\r\u001b[K     |█████████████                   | 491 kB 10.0 MB/s eta 0:00:01\r\u001b[K     |█████████████▎                  | 501 kB 10.0 MB/s eta 0:00:01\r\u001b[K     |█████████████▌                  | 512 kB 10.0 MB/s eta 0:00:01\r\u001b[K     |█████████████▊                  | 522 kB 10.0 MB/s eta 0:00:01\r\u001b[K     |██████████████                  | 532 kB 10.0 MB/s eta 0:00:01\r\u001b[K     |██████████████▎                 | 542 kB 10.0 MB/s eta 0:00:01\r\u001b[K     |██████████████▋                 | 552 kB 10.0 MB/s eta 0:00:01\r\u001b[K     |██████████████▉                 | 563 kB 10.0 MB/s eta 0:00:01\r\u001b[K     |███████████████▏                | 573 kB 10.0 MB/s eta 0:00:01\r\u001b[K     |███████████████▍                | 583 kB 10.0 MB/s eta 0:00:01\r\u001b[K     |███████████████▋                | 593 kB 10.0 MB/s eta 0:00:01\r\u001b[K     |████████████████                | 604 kB 10.0 MB/s eta 0:00:01\r\u001b[K     |████████████████▏               | 614 kB 10.0 MB/s eta 0:00:01\r\u001b[K     |████████████████▌               | 624 kB 10.0 MB/s eta 0:00:01\r\u001b[K     |████████████████▊               | 634 kB 10.0 MB/s eta 0:00:01\r\u001b[K     |█████████████████               | 645 kB 10.0 MB/s eta 0:00:01\r\u001b[K     |█████████████████▎              | 655 kB 10.0 MB/s eta 0:00:01\r\u001b[K     |█████████████████▌              | 665 kB 10.0 MB/s eta 0:00:01\r\u001b[K     |█████████████████▉              | 675 kB 10.0 MB/s eta 0:00:01\r\u001b[K     |██████████████████              | 686 kB 10.0 MB/s eta 0:00:01\r\u001b[K     |██████████████████▍             | 696 kB 10.0 MB/s eta 0:00:01\r\u001b[K     |██████████████████▋             | 706 kB 10.0 MB/s eta 0:00:01\r\u001b[K     |███████████████████             | 716 kB 10.0 MB/s eta 0:00:01\r\u001b[K     |███████████████████▏            | 727 kB 10.0 MB/s eta 0:00:01\r\u001b[K     |███████████████████▍            | 737 kB 10.0 MB/s eta 0:00:01\r\u001b[K     |███████████████████▊            | 747 kB 10.0 MB/s eta 0:00:01\r\u001b[K     |████████████████████            | 757 kB 10.0 MB/s eta 0:00:01\r\u001b[K     |████████████████████▎           | 768 kB 10.0 MB/s eta 0:00:01\r\u001b[K     |████████████████████▌           | 778 kB 10.0 MB/s eta 0:00:01\r\u001b[K     |████████████████████▉           | 788 kB 10.0 MB/s eta 0:00:01\r\u001b[K     |█████████████████████           | 798 kB 10.0 MB/s eta 0:00:01\r\u001b[K     |█████████████████████▎          | 808 kB 10.0 MB/s eta 0:00:01\r\u001b[K     |█████████████████████▋          | 819 kB 10.0 MB/s eta 0:00:01\r\u001b[K     |█████████████████████▉          | 829 kB 10.0 MB/s eta 0:00:01\r\u001b[K     |██████████████████████▏         | 839 kB 10.0 MB/s eta 0:00:01\r\u001b[K     |██████████████████████▍         | 849 kB 10.0 MB/s eta 0:00:01\r\u001b[K     |██████████████████████▊         | 860 kB 10.0 MB/s eta 0:00:01\r\u001b[K     |███████████████████████         | 870 kB 10.0 MB/s eta 0:00:01\r\u001b[K     |███████████████████████▏        | 880 kB 10.0 MB/s eta 0:00:01\r\u001b[K     |███████████████████████▌        | 890 kB 10.0 MB/s eta 0:00:01\r\u001b[K     |███████████████████████▊        | 901 kB 10.0 MB/s eta 0:00:01\r\u001b[K     |████████████████████████        | 911 kB 10.0 MB/s eta 0:00:01\r\u001b[K     |████████████████████████▎       | 921 kB 10.0 MB/s eta 0:00:01\r\u001b[K     |████████████████████████▋       | 931 kB 10.0 MB/s eta 0:00:01\r\u001b[K     |████████████████████████▉       | 942 kB 10.0 MB/s eta 0:00:01\r\u001b[K     |█████████████████████████       | 952 kB 10.0 MB/s eta 0:00:01\r\u001b[K     |█████████████████████████▍      | 962 kB 10.0 MB/s eta 0:00:01\r\u001b[K     |█████████████████████████▋      | 972 kB 10.0 MB/s eta 0:00:01\r\u001b[K     |██████████████████████████      | 983 kB 10.0 MB/s eta 0:00:01\r\u001b[K     |██████████████████████████▏     | 993 kB 10.0 MB/s eta 0:00:01\r\u001b[K     |██████████████████████████▌     | 1.0 MB 10.0 MB/s eta 0:00:01\r\u001b[K     |██████████████████████████▊     | 1.0 MB 10.0 MB/s eta 0:00:01\r\u001b[K     |███████████████████████████     | 1.0 MB 10.0 MB/s eta 0:00:01\r\u001b[K     |███████████████████████████▎    | 1.0 MB 10.0 MB/s eta 0:00:01\r\u001b[K     |███████████████████████████▌    | 1.0 MB 10.0 MB/s eta 0:00:01\r\u001b[K     |███████████████████████████▉    | 1.1 MB 10.0 MB/s eta 0:00:01\r\u001b[K     |████████████████████████████    | 1.1 MB 10.0 MB/s eta 0:00:01\r\u001b[K     |████████████████████████████▍   | 1.1 MB 10.0 MB/s eta 0:00:01\r\u001b[K     |████████████████████████████▋   | 1.1 MB 10.0 MB/s eta 0:00:01\r\u001b[K     |████████████████████████████▉   | 1.1 MB 10.0 MB/s eta 0:00:01\r\u001b[K     |█████████████████████████████▏  | 1.1 MB 10.0 MB/s eta 0:00:01\r\u001b[K     |█████████████████████████████▍  | 1.1 MB 10.0 MB/s eta 0:00:01\r\u001b[K     |█████████████████████████████▊  | 1.1 MB 10.0 MB/s eta 0:00:01\r\u001b[K     |██████████████████████████████  | 1.1 MB 10.0 MB/s eta 0:00:01\r\u001b[K     |██████████████████████████████▎ | 1.1 MB 10.0 MB/s eta 0:00:01\r\u001b[K     |██████████████████████████████▌ | 1.2 MB 10.0 MB/s eta 0:00:01\r\u001b[K     |██████████████████████████████▊ | 1.2 MB 10.0 MB/s eta 0:00:01\r\u001b[K     |███████████████████████████████ | 1.2 MB 10.0 MB/s eta 0:00:01\r\u001b[K     |███████████████████████████████▎| 1.2 MB 10.0 MB/s eta 0:00:01\r\u001b[K     |███████████████████████████████▋| 1.2 MB 10.0 MB/s eta 0:00:01\r\u001b[K     |███████████████████████████████▉| 1.2 MB 10.0 MB/s eta 0:00:01\r\u001b[K     |████████████████████████████████| 1.2 MB 10.0 MB/s \n",
            "\u001b[?25hInstalling collected packages: sentencepiece\n",
            "Successfully installed sentencepiece-0.1.96\n"
          ]
        }
      ]
    },
    {
      "cell_type": "markdown",
      "metadata": {
        "id": "2W6-WvsM1YVK"
      },
      "source": [
        "#### Importando Bibliotecas"
      ]
    },
    {
      "cell_type": "code",
      "metadata": {
        "id": "as4YV8Tb1bLP"
      },
      "source": [
        "import os\n",
        "import pickle"
      ],
      "execution_count": 8,
      "outputs": []
    },
    {
      "cell_type": "markdown",
      "metadata": {
        "id": "u8OTh1Io1gzU"
      },
      "source": [
        "### Lendo os dados"
      ]
    },
    {
      "cell_type": "code",
      "metadata": {
        "id": "8oYN3sfG1gCZ"
      },
      "source": [
        "datafolder = \"drive/MyDrive/projects/T5-Fine-Tuning/data/\""
      ],
      "execution_count": 9,
      "outputs": []
    },
    {
      "cell_type": "code",
      "metadata": {
        "id": "VqRd0HGE3Bpa"
      },
      "source": [
        "with open(datafolder + 'train.pkl', 'rb') as f:\n",
        "    train_pkl = pickle.load(f)"
      ],
      "execution_count": 10,
      "outputs": []
    },
    {
      "cell_type": "code",
      "metadata": {
        "id": "jRBs7xpG1zOo"
      },
      "source": [
        "with open(datafolder + 'Test_Parallel_Corpora.pkl', 'rb') as f:\n",
        "    valid_pkl = pickle.load(f)"
      ],
      "execution_count": 11,
      "outputs": []
    },
    {
      "cell_type": "code",
      "metadata": {
        "colab": {
          "base_uri": "https://localhost:8080/"
        },
        "id": "HWjusfI32gub",
        "outputId": "0321a3e6-58b6-498c-d667-4d844b755aaa"
      },
      "source": [
        "train_pkl[0]"
      ],
      "execution_count": 12,
      "outputs": [
        {
          "output_type": "execute_result",
          "data": {
            "text/plain": [
              "['Then Ezekiel is summoned to educate the people of their dignity, eventually obtaining their organization and uplift, forming a huge army and building a new history (\"I shall put my spirit upon you\").',\n",
              " 'Depois, Ezequiel é convocado a conscientizar o povo de sua dignidade, conseguindo enfim sua organização e soerguimento, constituindo um grande exército e construindo uma nova história (\"colocarei o meu espírito sobre vocês\").']"
            ]
          },
          "metadata": {},
          "execution_count": 12
        }
      ]
    },
    {
      "cell_type": "code",
      "metadata": {
        "colab": {
          "base_uri": "https://localhost:8080/"
        },
        "id": "1fgzD_dV380O",
        "outputId": "2d50ac46-f91f-4fc9-e66d-5ac398eeb3fc"
      },
      "source": [
        "len(train_pkl)"
      ],
      "execution_count": 13,
      "outputs": [
        {
          "output_type": "execute_result",
          "data": {
            "text/plain": [
              "20427300"
            ]
          },
          "metadata": {},
          "execution_count": 13
        }
      ]
    }
  ]
}